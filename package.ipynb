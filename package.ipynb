{
  "cells": [
    {
      "cell_type": "code",
      "execution_count": 1,
      "id": "5729af2a-30b7-4fa4-bf8e-e420cfc24784",
      "metadata": {
        "collapsed": true,
        "datarobot": {
          "disable_run": false,
          "execution_time_millis": 2383,
          "hide_code": false,
          "hide_results": false,
          "language": "python"
        },
        "jupyter": {
          "outputs_hidden": false,
          "source_hidden": false
        },
        "name": "First cell",
        "scrolled": "auto"
      },
      "outputs": [
        {
          "name": "stdout",
          "output_type": "stream",
          "text": [
            "Collecting sendgrid\r\n",
            "  Downloading sendgrid-6.12.4-py3-none-any.whl.metadata (12 kB)\r\n",
            "Collecting python-http-client>=3.2.1 (from sendgrid)\r\n",
            "  Downloading python_http_client-3.3.7-py3-none-any.whl.metadata (6.9 kB)\r\n",
            "Collecting ecdsa<1,>=0.19.1 (from sendgrid)\r\n",
            "  Downloading ecdsa-0.19.1-py2.py3-none-any.whl.metadata (29 kB)\r\n",
            "Requirement already satisfied: werkzeug>=2.2.0 in /etc/system/kernel/.venv/lib/python3.11/site-packages (from sendgrid) (3.1.3)\r\n",
            "Requirement already satisfied: six>=1.9.0 in /etc/system/kernel/.venv/lib/python3.11/site-packages (from ecdsa<1,>=0.19.1->sendgrid) (1.17.0)\r\n",
            "Requirement already satisfied: MarkupSafe>=2.1.1 in /etc/system/kernel/.venv/lib/python3.11/site-packages (from werkzeug>=2.2.0->sendgrid) (3.0.2)\r\n",
            "Downloading sendgrid-6.12.4-py3-none-any.whl (102 kB)\r\n",
            "Downloading ecdsa-0.19.1-py2.py3-none-any.whl (150 kB)\r\n",
            "Downloading python_http_client-3.3.7-py3-none-any.whl (8.4 kB)\r\n",
            "Installing collected packages: python-http-client, ecdsa, sendgrid\r\n",
            "\u001b[2K   \u001b[91m━━━━━━━━━━━━━━━━━━━━━━━━━━\u001b[0m\u001b[91m╸\u001b[0m\u001b[90m━━━━━━━━━━━━━\u001b[0m \u001b[32m2/3\u001b[0m [sendgrid]\r",
            "\u001b[2K   \u001b[90m━━━━━━━━━━━━━━━━━━━━━━━━━━━━━━━━━━━━━━━━\u001b[0m \u001b[32m3/3\u001b[0m [sendgrid]\r\n",
            "\u001b[?25h\r",
            "\u001b[1A\u001b[2KSuccessfully installed ecdsa-0.19.1 python-http-client-3.3.7 sendgrid-6.12.4\r\n",
            "Note: you may need to restart the kernel to use updated packages.\n"
          ]
        }
      ],
      "source": "pip install sendgrid\n"
    },
    {
      "cell_type": "code",
      "execution_count": 25,
      "id": "55a80799-cdf2-4ec6-af84-de8e45a2c20a",
      "metadata": {
        "collapsed": false,
        "datarobot": {
          "chart_settings": null,
          "custom_llm_metric_settings": null,
          "custom_metric_settings": null,
          "dataframe_view_options": null,
          "disable_run": false,
          "execution_time_millis": 100,
          "hide_code": false,
          "hide_results": false,
          "language": "python"
        },
        "jupyter": {
          "outputs_hidden": false,
          "source_hidden": false
        },
        "scrolled": false
      },
      "outputs": [],
      "source": "from datarobot import Deployment\nimport datarobot as dr\nimport pandas as pd\n\nfrom datarobot_predict.deployment import predict\ndr.Client()\n\n\ndeployment_id = '68b0045bdd30f965b614254f'\n\ndef get_churn_score(payload, deployment_id):\n    predictions_df,_ = predict(deployment = dr.Deployment.get(deployment_id), data_frame = payload)\n\n    return predictions_df"
    },
    {
      "cell_type": "code",
      "execution_count": 32,
      "id": "f1a05392-a4bc-49f6-8398-4f770f49acc4",
      "metadata": {
        "collapsed": false,
        "datarobot": {
          "chart_settings": null,
          "custom_llm_metric_settings": null,
          "custom_metric_settings": null,
          "dataframe_view_options": null,
          "disable_run": false,
          "execution_time_millis": 344,
          "hide_code": false,
          "hide_results": false,
          "language": "python"
        },
        "jupyter": {
          "outputs_hidden": false,
          "source_hidden": false
        },
        "scrolled": false
      },
      "outputs": [
        {
          "name": "stdout",
          "output_type": "stream",
          "text": [
            "(3, 17)\n",
            "   Churned_1_PREDICTION  Churned_0_PREDICTION  Churned_PREDICTION  THRESHOLD  \\\n",
            "0          1.300000e-09              1.000000                   0        0.5   \n",
            "1          5.015000e-07              0.999999                   0        0.5   \n",
            "2          9.968336e-01              0.003166                   1        0.5   \n",
            "\n",
            "   POSITIVE_CLASS DEPLOYMENT_APPROVAL_STATUS  \n",
            "0               1                   APPROVED  \n",
            "1               1                   APPROVED  \n",
            "2               1                   APPROVED  \n"
          ]
        },
        {
          "data": {
            "application/vnd.dataframe+json": {
              "columns": [
                {
                  "name": "index",
                  "type": "integer"
                },
                {
                  "name": "EmployeeID",
                  "type": "string"
                },
                {
                  "name": "JoinDate",
                  "type": "string"
                },
                {
                  "name": "Department",
                  "type": "string"
                },
                {
                  "name": "Location",
                  "type": "string"
                },
                {
                  "name": "Age",
                  "type": "integer"
                },
                {
                  "name": "Gender",
                  "type": "string"
                },
                {
                  "name": "Education",
                  "type": "string"
                },
                {
                  "name": "ExperienceYears",
                  "type": "integer"
                },
                {
                  "name": "IsRemote",
                  "type": "integer"
                },
                {
                  "name": "HasMentorAssigned",
                  "type": "integer"
                },
                {
                  "name": "HasManagerMeetingScheduled",
                  "type": "integer"
                },
                {
                  "name": "HRIntroCompleted",
                  "type": "integer"
                },
                {
                  "name": "DeviceDeliveredOnTime",
                  "type": "integer"
                },
                {
                  "name": "LoggedInFirstWeek",
                  "type": "integer"
                },
                {
                  "name": "AttendedWelcomeSession",
                  "type": "integer"
                },
                {
                  "name": "TotalDaysActive",
                  "type": "integer"
                },
                {
                  "name": "Email",
                  "type": "string"
                },
                {
                  "name": "churn_score",
                  "type": "integer"
                }
              ],
              "count": 3,
              "data": [
                {
                  "Age": 48,
                  "AttendedWelcomeSession": 1,
                  "Department": "Product",
                  "DeviceDeliveredOnTime": 1,
                  "Education": "Bachelors",
                  "Email": "md.zeeshan.arif@datarobot.com",
                  "EmployeeID": "EMP1161",
                  "ExperienceYears": 10,
                  "Gender": "Male",
                  "HRIntroCompleted": 1,
                  "HasManagerMeetingScheduled": 1,
                  "HasMentorAssigned": 1,
                  "IsRemote": 1,
                  "JoinDate": "02-08-2025",
                  "Location": "US",
                  "LoggedInFirstWeek": 1,
                  "TotalDaysActive": 26,
                  "churn_score": 0,
                  "index": 0
                },
                {
                  "Age": 46,
                  "AttendedWelcomeSession": 1,
                  "Department": "Sales",
                  "DeviceDeliveredOnTime": 1,
                  "Education": "Bachelors",
                  "Email": "iamarifzeeshan@gmail.com",
                  "EmployeeID": "EMP1162",
                  "ExperienceYears": 8,
                  "Gender": "Male",
                  "HRIntroCompleted": 1,
                  "HasManagerMeetingScheduled": 1,
                  "HasMentorAssigned": 0,
                  "IsRemote": 0,
                  "JoinDate": "15-08-2025",
                  "Location": "UK",
                  "LoggedInFirstWeek": 1,
                  "TotalDaysActive": 13,
                  "churn_score": 0,
                  "index": 1
                },
                {
                  "Age": 25,
                  "AttendedWelcomeSession": 1,
                  "Department": "Finance",
                  "DeviceDeliveredOnTime": 0,
                  "Education": "Masters",
                  "Email": "zeeshanarif097@gmail.com",
                  "EmployeeID": "EMP1093",
                  "ExperienceYears": 13,
                  "Gender": "Male",
                  "HRIntroCompleted": 1,
                  "HasManagerMeetingScheduled": 1,
                  "HasMentorAssigned": 0,
                  "IsRemote": 0,
                  "JoinDate": "20-08-2025",
                  "Location": "India",
                  "LoggedInFirstWeek": 0,
                  "TotalDaysActive": 8,
                  "churn_score": 1,
                  "index": 2
                }
              ],
              "error": [],
              "indexKey": "index",
              "limit": 10,
              "offset": 0,
              "referenceId": 139975705280976,
              "sortedBy": "",
              "totalCount": 3
            },
            "text/html": "<div>\n<style scoped>\n    .dataframe tbody tr th:only-of-type {\n        vertical-align: middle;\n    }\n\n    .dataframe tbody tr th {\n        vertical-align: top;\n    }\n\n    .dataframe thead th {\n        text-align: right;\n    }\n</style>\n<table border=\"1\" class=\"dataframe\">\n  <thead>\n    <tr style=\"text-align: right;\">\n      <th></th>\n      <th>EmployeeID</th>\n      <th>JoinDate</th>\n      <th>Department</th>\n      <th>Location</th>\n      <th>Age</th>\n      <th>Gender</th>\n      <th>Education</th>\n      <th>ExperienceYears</th>\n      <th>IsRemote</th>\n      <th>HasMentorAssigned</th>\n      <th>HasManagerMeetingScheduled</th>\n      <th>HRIntroCompleted</th>\n      <th>DeviceDeliveredOnTime</th>\n      <th>LoggedInFirstWeek</th>\n      <th>AttendedWelcomeSession</th>\n      <th>TotalDaysActive</th>\n      <th>Email</th>\n      <th>churn_score</th>\n    </tr>\n  </thead>\n  <tbody>\n    <tr>\n      <th>0</th>\n      <td>EMP1161</td>\n      <td>02-08-2025</td>\n      <td>Product</td>\n      <td>US</td>\n      <td>48</td>\n      <td>Male</td>\n      <td>Bachelors</td>\n      <td>10</td>\n      <td>1</td>\n      <td>1</td>\n      <td>1</td>\n      <td>1</td>\n      <td>1</td>\n      <td>1</td>\n      <td>1</td>\n      <td>26</td>\n      <td>md.zeeshan.arif@datarobot.com</td>\n      <td>0</td>\n    </tr>\n    <tr>\n      <th>1</th>\n      <td>EMP1162</td>\n      <td>15-08-2025</td>\n      <td>Sales</td>\n      <td>UK</td>\n      <td>46</td>\n      <td>Male</td>\n      <td>Bachelors</td>\n      <td>8</td>\n      <td>0</td>\n      <td>0</td>\n      <td>1</td>\n      <td>1</td>\n      <td>1</td>\n      <td>1</td>\n      <td>1</td>\n      <td>13</td>\n      <td>iamarifzeeshan@gmail.com</td>\n      <td>0</td>\n    </tr>\n    <tr>\n      <th>2</th>\n      <td>EMP1093</td>\n      <td>20-08-2025</td>\n      <td>Finance</td>\n      <td>India</td>\n      <td>25</td>\n      <td>Male</td>\n      <td>Masters</td>\n      <td>13</td>\n      <td>0</td>\n      <td>0</td>\n      <td>1</td>\n      <td>1</td>\n      <td>0</td>\n      <td>0</td>\n      <td>1</td>\n      <td>8</td>\n      <td>zeeshanarif097@gmail.com</td>\n      <td>1</td>\n    </tr>\n  </tbody>\n</table>\n</div>",
            "text/plain": "  EmployeeID    JoinDate Department Location  Age Gender  Education  \\\n0    EMP1161  02-08-2025    Product       US   48   Male  Bachelors   \n1    EMP1162  15-08-2025      Sales       UK   46   Male  Bachelors   \n2    EMP1093  20-08-2025    Finance    India   25   Male    Masters   \n\n   ExperienceYears  IsRemote  HasMentorAssigned  HasManagerMeetingScheduled  \\\n0               10         1                  1                           1   \n1                8         0                  0                           1   \n2               13         0                  0                           1   \n\n   HRIntroCompleted  DeviceDeliveredOnTime  LoggedInFirstWeek  \\\n0                 1                      1                  1   \n1                 1                      1                  1   \n2                 1                      0                  0   \n\n   AttendedWelcomeSession  TotalDaysActive                          Email  \\\n0                       1               26  md.zeeshan.arif@datarobot.com   \n1                       1               13       iamarifzeeshan@gmail.com   \n2                       1                8       zeeshanarif097@gmail.com   \n\n   churn_score  \n0            0  \n1            0  \n2            1  "
          },
          "execution_count": 32,
          "metadata": {},
          "output_type": "execute_result"
        }
      ],
      "source": "# Get scores for all 5 test users\ntest_df = pd.read_csv('test_data.csv')\nprint(test_df.shape)\nscores = get_churn_score(test_df, deployment_id)\n# Combine scores back to the test data\ntest_df[\"churn_score\"] = scores['Churned_PREDICTION']\ntest_df"
    },
    {
      "cell_type": "code",
      "execution_count": 33,
      "id": "8c7c66e7-7849-4499-82c8-6ba011c61a9c",
      "metadata": {
        "collapsed": false,
        "datarobot": {
          "chart_settings": null,
          "custom_llm_metric_settings": null,
          "custom_metric_settings": null,
          "dataframe_view_options": null,
          "disable_run": false,
          "execution_time_millis": 943,
          "hide_code": false,
          "hide_results": false,
          "language": "python"
        },
        "jupyter": {
          "outputs_hidden": false,
          "source_hidden": false
        },
        "scrolled": false
      },
      "outputs": [
        {
          "name": "stdout",
          "output_type": "stream",
          "text": [
            "Index(['EmployeeID', 'JoinDate', 'Department', 'Location', 'Age', 'Gender',\n",
            "       'Education', 'ExperienceYears', 'IsRemote', 'HasMentorAssigned',\n",
            "       'HasManagerMeetingScheduled', 'HRIntroCompleted',\n",
            "       'DeviceDeliveredOnTime', 'LoggedInFirstWeek', 'AttendedWelcomeSession',\n",
            "       'TotalDaysActive', 'Email', 'Name', 'churn_score'],\n",
            "      dtype='object')\n",
            "  EmployeeID    JoinDate Department Location  Age Gender  Education  \\\n",
            "0    EMP1161  02-08-2025    Product       US   48   Male  Bachelors   \n",
            "1    EMP1162  15-08-2025      Sales       UK   46   Male  Bachelors   \n",
            "2    EMP1093  20-08-2025    Finance    India   25   Male    Masters   \n",
            "\n",
            "   ExperienceYears  IsRemote  HasMentorAssigned  HasManagerMeetingScheduled  \\\n",
            "0               10         1                  1                           1   \n",
            "1                8         0                  0                           1   \n",
            "2               13         0                  0                           1   \n",
            "\n",
            "   HRIntroCompleted  DeviceDeliveredOnTime  LoggedInFirstWeek  \\\n",
            "0                 1                      1                  1   \n",
            "1                 1                      1                  1   \n",
            "2                 1                      0                  0   \n",
            "\n",
            "   AttendedWelcomeSession  TotalDaysActive                          Email  \\\n",
            "0                       1               26  md.zeeshan.arif@datarobot.com   \n",
            "1                       1               13       iamarifzeeshan@gmail.com   \n",
            "2                       1                8       zeeshanarif097@gmail.com   \n",
            "\n",
            "      Name  churn_score  \n",
            "0  zeeshan            0  \n",
            "1   deepak            0  \n",
            "2     amit            1  \n"
          ]
        }
      ],
      "source": "from utils.churn_predictor import get_churn_scores\nimport pandas as pd\n\ndf = pd.read_csv('data/test_data.csv')\nscored = get_churn_scores(df)\nprint(scored.columns)\nprint(scored.head())"
    },
    {
      "cell_type": "code",
      "execution_count": 53,
      "id": "ce4a2901-dad3-4098-b973-5be18ab3b483",
      "metadata": {
        "collapsed": false,
        "datarobot": {
          "chart_settings": null,
          "custom_llm_metric_settings": null,
          "custom_metric_settings": null,
          "dataframe_view_options": null,
          "disable_run": false,
          "execution_time_millis": 5,
          "hide_code": false,
          "hide_results": false,
          "language": "python"
        },
        "jupyter": {
          "outputs_hidden": false,
          "source_hidden": false
        },
        "scrolled": false
      },
      "outputs": [
        {
          "name": "stdout",
          "output_type": "stream",
          "text": [
            "Loaded FEEDBACK_FORM_LINK: https://docs.google.com/forms/d/1kpLYCBGJt-RUYj5_hhHmT2mjWENThtDbnMm2_6-DCmw/edit#responses\n"
          ]
        }
      ],
      "source": "\nimport os\nfrom dotenv import load_dotenv\nload_dotenv(dotenv_path='/home/notebooks/storage/.env')\nprint(\"Loaded FEEDBACK_FORM_LINK:\", os.getenv(\"FEEDBACK_FORM_LINK\"))"
    },
    {
      "cell_type": "code",
      "execution_count": 14,
      "id": "8eb43f8a-ed32-4a08-8151-76afef5a824a",
      "metadata": {
        "collapsed": false,
        "datarobot": {
          "chart_settings": null,
          "custom_llm_metric_settings": null,
          "custom_metric_settings": null,
          "dataframe_view_options": null,
          "disable_run": false,
          "execution_time_millis": 488,
          "hide_code": false,
          "hide_results": false,
          "language": "python"
        },
        "jupyter": {
          "outputs_hidden": false,
          "source_hidden": false
        },
        "scrolled": false
      },
      "outputs": [
        {
          "name": "stdout",
          "output_type": "stream",
          "text": [
            "68ba74b1cbc5250add8f364a\n"
          ]
        },
        {
          "ename": "AttributeError",
          "evalue": "'Deployment' object has no attribute 'predict'",
          "output_type": "error",
          "traceback": [
            "\u001b[31m---------------------------------------------------------------------------\u001b[39m",
            "\u001b[31mAttributeError\u001b[39m                            Traceback (most recent call last)",
            "\u001b[36mCell\u001b[39m\u001b[36m \u001b[39m\u001b[32mIn[14]\u001b[39m\u001b[32m, line 12\u001b[39m\n\u001b[32m      9\u001b[39m question = \u001b[33m\"\u001b[39m\u001b[33mWhat is the lunch time?\u001b[39m\u001b[33m\"\u001b[39m\n\u001b[32m     11\u001b[39m deployment = dr.Deployment.get(deployment_id)\n\u001b[32m---> \u001b[39m\u001b[32m12\u001b[39m response = \u001b[43mdeployment\u001b[49m\u001b[43m.\u001b[49m\u001b[43mpredict\u001b[49m({\u001b[33m\"\u001b[39m\u001b[33mprompt\u001b[39m\u001b[33m\"\u001b[39m: question})\n\u001b[32m     13\u001b[39m \u001b[38;5;28mprint\u001b[39m(response[\u001b[33m\"\u001b[39m\u001b[33mcompletions\u001b[39m\u001b[33m\"\u001b[39m][\u001b[32m0\u001b[39m][\u001b[33m\"\u001b[39m\u001b[33mtext\u001b[39m\u001b[33m\"\u001b[39m])\n",
            "\u001b[31mAttributeError\u001b[39m: 'Deployment' object has no attribute 'predict'"
          ]
        }
      ],
      "source": "import datarobot as dr\nimport os\nfrom dotenv import load_dotenv\nload_dotenv(dotenv_path='/home/notebooks/storage/.env')\n\ndr_client = dr.Client()\ndeployment_id = '68ba74b1cbc5250add8f364a'\nprint(deployment_id)\nquestion = \"What is the lunch time?\"\n\ndeployment = dr.Deployment.get(deployment_id)\nresponse = deployment.predict({\"prompt\": question})\nprint(response[\"completions\"][0][\"text\"])"
    },
    {
      "cell_type": "code",
      "execution_count": 15,
      "id": "23fb4fad-69dd-4538-8115-679a6354e3a8",
      "metadata": {
        "collapsed": false,
        "datarobot": {
          "chart_settings": null,
          "custom_llm_metric_settings": null,
          "custom_metric_settings": null,
          "dataframe_view_options": null,
          "disable_run": false,
          "execution_time_millis": 199,
          "hide_code": false,
          "hide_results": false,
          "language": "python"
        },
        "jupyter": {
          "outputs_hidden": false,
          "source_hidden": false
        },
        "scrolled": false
      },
      "outputs": [
        {
          "name": "stdout",
          "output_type": "stream",
          "text": [
            "<Response [404]>\n"
          ]
        }
      ],
      "source": "import datarobot as dr\nimport os\nfrom dotenv import load_dotenv\nimport requests\n# Load environment\nload_dotenv(dotenv_path=\"/home/notebooks/storage/.env\")\n# DR client\ndr_client = dr.Client()\n# Auth + URL\nauth_token = dr_client.token\nllmgw_url = dr_client.endpoint.replace(\"/api/v2\", \"\") + \"/genai/llmgw/v1\"\n# Deployment ID from your .env\ndeployment_id = '68ba74b1cbc5250add8f364a'\n# Question\nquestion = \"What is the lunch time?\"\n# Call the LLM Gateway\nheaders = {\n    \"Authorization\": f\"Bearer {auth_token}\",\n    \"Content-Type\": \"application/json\"\n}\npayload = {\n    \"deploymentId\": deployment_id,\n    \"input\": {\n        \"messages\": [\n            {\"role\": \"user\", \"content\": question}\n        ]\n    }\n}\nresponse = requests.post(f\"{llmgw_url}/chat/completions\", headers=headers, json=payload)\nprint(response)\n"
    },
    {
      "cell_type": "code",
      "execution_count": 5,
      "id": "5ac24d53-e765-4bff-84d5-4e3b0a41eb3a",
      "metadata": {
        "collapsed": false,
        "datarobot": {
          "chart_settings": null,
          "custom_llm_metric_settings": null,
          "custom_metric_settings": null,
          "dataframe_view_options": null,
          "disable_run": false,
          "execution_time_millis": 4,
          "hide_code": false,
          "hide_results": false,
          "language": "python"
        },
        "jupyter": {
          "outputs_hidden": false,
          "source_hidden": false
        },
        "scrolled": false
      },
      "outputs": [
        {
          "name": "stdout",
          "output_type": "stream",
          "text": [
            "404\n"
          ]
        }
      ],
      "source": "### old data robot _policy_2_\n\nAPI_URL = 'https://datarobot-support.orm.datarobot.com/predApi/v1.0/deployments/{deployment_id}/predictions'    # noqa\nAPI_KEY = 'NjhiOTE2ZjcyMmM3MTk3ZjZlNWVmN2E2OjJWclhwU0tVRjlkTXBOZDhmMDZGY09RWDAzZ21OY2MrbTE0MGQ1UUFudlU9'\nDATAROBOT_KEY = '544ec55f-61bf-f6ee-0caf-15c7f919a45d'\nDEPLOYMENT_ID = '68ba74b1cbc5250add8f364a'\n\n### new data robot _policy_5_\nAPI_URL = 'https://datarobot-support.orm.datarobot.com/predApi/v1.0/deployments/{deployment_id}/predictions'    # noqa\nAPI_KEY = 'NjhiOTE2ZjcyMmM3MTk3ZjZlNWVmN2E2OjJWclhwU0tVRjlkTXBOZDhmMDZGY09RWDAzZ21OY2MrbTE0MGQ1UUFudlU9'\nDATAROBOT_KEY = '544ec55f-61bf-f6ee-0caf-15c7f919a45d'\nDEPLOYMENT_ID = '68c7ecd27278d8487cb73598'"
    },
    {
      "cell_type": "code",
      "execution_count": 1,
      "id": "8f171517-0e32-47f7-99ea-e50c4b8969c2",
      "metadata": {
        "collapsed": false,
        "datarobot": {
          "chart_settings": null,
          "custom_llm_metric_settings": null,
          "custom_metric_settings": null,
          "dataframe_view_options": null,
          "disable_run": false,
          "execution_time_millis": 5608,
          "hide_code": false,
          "hide_results": false,
          "language": "python"
        },
        "jupyter": {
          "outputs_hidden": false,
          "source_hidden": false
        },
        "scrolled": false
      },
      "outputs": [
        {
          "name": "stdout",
          "output_type": "stream",
          "text": [
            "Lunch may be taken from 1:00pm to 1:30pm.\n",
            "You are entitled to 30 days of paid sick leave over a three-year period. During the first six months of continuous employment, you are entitled to one day of paid sick leave for every 26 days worked. \n"
          ]
        },
        {
          "ename": "SystemExit",
          "evalue": "",
          "output_type": "error",
          "traceback": [
            "An exception has occurred, use %tb to see the full traceback.\n",
            "\u001b[31mSystemExit\u001b[39m\n"
          ]
        },
        {
          "name": "stderr",
          "output_type": "stream",
          "text": [
            "/etc/system/kernel/.venv/lib/python3.11/site-packages/IPython/core/interactiveshell.py:3707: UserWarning: To exit: use 'exit', 'quit', or Ctrl-D.\n",
            "  warn(\"To exit: use 'exit', 'quit', or Ctrl-D.\", stacklevel=1)\n"
          ]
        }
      ],
      "source": "import json\nimport os\nimport sys\nimport requests\nfrom dotenv import load_dotenv\nload_dotenv(dotenv_path=\"/home/notebooks/storage/.env\")\n# DR client\n#dr_client = dr.Client()\nAPI_URL = 'https://datarobot-support.orm.datarobot.com/predApi/v1.0/deployments/{deployment_id}/predictions'    # noqa\nAPI_KEY = 'NjhiOTE2ZjcyMmM3MTk3ZjZlNWVmN2E2OjJWclhwU0tVRjlkTXBOZDhmMDZGY09RWDAzZ21OY2MrbTE0MGQ1UUFudlU9'\nDATAROBOT_KEY = '544ec55f-61bf-f6ee-0caf-15c7f919a45d'\nDEPLOYMENT_ID = '68c7ecd27278d8487cb73598'\n\nAPI_URL = 'https://datarobot-support.orm.datarobot.com/predApi/v1.0/deployments/{deployment_id}/predictions'    # noqa\nAPI_KEY = 'NjhiOTE2ZjcyMmM3MTk3ZjZlNWVmN2E2OjJWclhwU0tVRjlkTXBOZDhmMDZGY09RWDAzZ21OY2MrbTE0MGQ1UUFudlU9'\nDATAROBOT_KEY = '544ec55f-61bf-f6ee-0caf-15c7f919a45d'\n\nDEPLOYMENT_ID = '68d0447aa8a52fdb1f110a6d'\n\n\n\n#print(DEPLOYMENT_ID,  DATAROBOT_KEY ,  API_KEY)\nMAX_PREDICTION_FILE_SIZE_BYTES = 52428800 \nclass DataRobotPredictionError(Exception):\n    \"\"\"Raised if there are issues getting predictions from DataRobot\"\"\"\ndef make_datarobot_deployment_predictions(data, deployment_id, is_json=False):\n    \"\"\"\n    Make predictions  JSON payload.\n    \"\"\"\n    headers = {\n        'Authorization': f'Bearer {API_KEY}',\n        'DataRobot-Key': DATAROBOT_KEY,\n    }\n   \n    headers['Content-Type'] = 'application/json; charset=UTF-8'\n    payload = data \n   \n    url = API_URL.format(deployment_id=deployment_id)\n    predictions_response = requests.post(\n        url,\n        json=payload if is_json else None,\n        data=None if is_json else payload,\n        headers=headers,\n    )\n    _raise_dataroboterror_for_status(predictions_response)\n    return predictions_response.json()\ndef _raise_dataroboterror_for_status(response):\n    try:\n        response.raise_for_status()\n    except requests.exceptions.HTTPError:\n        err_msg = f'{response.status_code} Error: {response.text}'\n        raise DataRobotPredictionError(err_msg)\ndef main(deployment_id):\n    \n    payload = [\n            {\"promptText\": \"what is the lunch time?\"},\n            {\"promptText\": \"how many sick leaves do we have annually?\"},\n        ]\n    \n    try:\n        predictions = make_datarobot_deployment_predictions(payload, deployment_id, is_json=True)\n        for row in predictions['data']:\n            print(row['prediction'])\n        #prediction_text=predictions['data'][0]['prediction']\n        #print(prediction_text)\n    except DataRobotPredictionError as exc:\n        print(exc)\n        return 1\n    #print(json.dumps(predictions, indent=4))\n    #return 0\nif __name__ == \"__main__\":\n    sys.exit(main(DEPLOYMENT_ID))"
    },
    {
      "cell_type": "code",
      "execution_count": 3,
      "id": "3bfddc6c-5b8e-4891-b9f8-ab08736cd37f",
      "metadata": {
        "collapsed": false,
        "datarobot": {
          "chart_settings": null,
          "custom_llm_metric_settings": null,
          "custom_metric_settings": null,
          "dataframe_view_options": null,
          "disable_run": false,
          "execution_time_millis": 8,
          "hide_code": false,
          "hide_results": false,
          "language": "python"
        },
        "jupyter": {
          "outputs_hidden": false,
          "source_hidden": false
        },
        "scrolled": false
      },
      "outputs": [
        {
          "name": "stdout",
          "output_type": "stream",
          "text": [
            "https://datarobot-support.orm.datarobot.com/predApi/v1.0/deployments/{deployment_id}/predictions\n",
            "NjhiOTE2ZjcyMmM3MTk3ZjZlNWVmN2E2OjJWclhwU0tVRjlkTXBOZDhmMDZGY09RWDAzZ21OY2MrbTE0MGQ1UUFudlU9\n",
            "544ec55f-61bf-f6ee-0caf-15c7f919a45d\n",
            "68d0447aa8a52fdb1f110a6d\n"
          ]
        }
      ],
      "source": "import json\nimport os\nimport sys\nimport requests\nfrom dotenv import load_dotenv\nload_dotenv(dotenv_path=\"/home/notebooks/storage/.env\")\n\nAPI_URL = os.getenv(\"API_URL\")\nAPI_KEY = os.getenv(\"API_KEY\")\nDATAROBOT_KEY = os.getenv(\"DATAROBOT_KEY\")\nDEPLOYMENT_ID= os.getenv(\"DEPLOYMENT_ID\")\n\nprint(API_URL)\nprint(API_KEY)\nprint(DATAROBOT_KEY)\nprint(DEPLOYMENT_ID)\n"
    },
    {
      "cell_type": "code",
      "execution_count": 0,
      "id": "aa24a9ae-44fd-46c6-991d-94a4f50f5b07",
      "metadata": {
        "collapsed": false,
        "datarobot": {
          "chart_settings": null,
          "custom_llm_metric_settings": null,
          "custom_metric_settings": null,
          "dataframe_view_options": null,
          "disable_run": false,
          "execution_time_millis": null,
          "hide_code": false,
          "hide_results": false,
          "language": "python"
        },
        "jupyter": {
          "outputs_hidden": false,
          "source_hidden": false
        },
        "scrolled": false
      },
      "outputs": [],
      "source": ""
    }
  ],
  "metadata": {
    "kernelspec": {
      "display_name": "Python 3 (ipykernel)",
      "name": "python3"
    },
    "language_info": {
      "name": "python"
    }
  },
  "nbformat": 4,
  "nbformat_minor": 5
}